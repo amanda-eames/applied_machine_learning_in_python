{
 "cells": [
  {
   "cell_type": "code",
   "execution_count": null,
   "metadata": {},
   "outputs": [],
   "source": [
    "import numpy as np\n",
    "import pandas as pd\n",
    "from sklearn.datasets import load_breast_cancer\n",
    "\n",
    "cancer = load_breast_cancer()\n",
    "\n",
    "#print(cancer.DESCR) # Print the data set description"
   ]
  },
  {
   "cell_type": "code",
   "execution_count": null,
   "metadata": {},
   "outputs": [],
   "source": [
    "def answer_one():\n",
    "    \n",
    "    # Your code here\n",
    "    data_array = cancer['data']\n",
    "    cols = cancer['feature_names']\n",
    "    df = pd.DataFrame(data_array, columns = cols)\n",
    "    target = pd.DataFrame(cancer['target'])\n",
    "    target.columns = ['target']\n",
    "    df = df.merge(target, how = 'inner', left_index = True, right_index = True)\n",
    "    \n",
    "    return df # Return your answer\n",
    "\n",
    "\n",
    "answer_one()"
   ]
  },
  {
   "cell_type": "code",
   "execution_count": null,
   "metadata": {},
   "outputs": [],
   "source": [
    "def answer_two():\n",
    "    cancerdf = answer_one()\n",
    "    \n",
    "    # Your code here\n",
    "    target_df = pd.DataFrame(cancerdf['target'])\n",
    "    target_df['name'] = np.where(target_df['target']==0, 'malignant','benign')\n",
    "    target_df = target_df.set_index('name')\n",
    "    target_df.index.name = None\n",
    "    \n",
    "    return target_df['target'] # Return your answer\n",
    "\n",
    "\n",
    "answer_two();"
   ]
  },
  {
   "cell_type": "code",
   "execution_count": null,
   "metadata": {},
   "outputs": [],
   "source": [
    "def answer_three():\n",
    "    cancerdf = answer_one()\n",
    "    X_cols = cancerdf.columns[:-1]\n",
    "    X = cancerdf[X_cols]\n",
    "    y = cancerdf['target']\n",
    "    # Your code here\n",
    "    \n",
    "    return X, y\n",
    "\n",
    "X, y= answer_three()"
   ]
  },
  {
   "cell_type": "code",
   "execution_count": null,
   "metadata": {},
   "outputs": [],
   "source": [
    "from sklearn.model_selection import train_test_split\n",
    "\n",
    "def answer_four():\n",
    "    X, y = answer_three()\n",
    "    \n",
    "    # Your code here\n",
    "    X_train, X_test, y_train, y_test = train_test_split(X, y, random_state=0)\n",
    "    \n",
    "    return X_train, X_test, y_train, y_test\n",
    "\n",
    "X_train, X_test, y_train, y_test = answer_four()"
   ]
  },
  {
   "cell_type": "code",
   "execution_count": null,
   "metadata": {},
   "outputs": [],
   "source": [
    "from sklearn.neighbors import KNeighborsClassifier\n",
    "\n",
    "def answer_five():\n",
    "    X_train, X_test, y_train, y_test = answer_four()\n",
    "    knn = KNeighborsClassifier(n_neighbors = 1)\n",
    "    \n",
    "    # Your code here\n",
    "    \n",
    "    return knn.fit(X_train, y_train) # Return your answer\n",
    "\n",
    "answer_five()"
   ]
  },
  {
   "cell_type": "code",
   "execution_count": null,
   "metadata": {},
   "outputs": [],
   "source": [
    "def answer_six():\n",
    "    cancerdf = answer_one()\n",
    "    means = cancerdf.mean()[:-1].values.reshape(1, -1)\n",
    "    X_train, X_test, y_train, y_test = answer_four()\n",
    "    knn = answer_five()\n",
    "    cancer_predict = knn.predict(means)\n",
    "    \n",
    "    return cancer_predict # Return your answer\n",
    "\n",
    "answer_six()"
   ]
  },
  {
   "cell_type": "code",
   "execution_count": null,
   "metadata": {},
   "outputs": [],
   "source": [
    "def answer_seven():\n",
    "    X_train, X_test, y_train, y_test = answer_four()\n",
    "    knn = answer_five()\n",
    "    \n",
    "    # Your code here\n",
    "    test_predict = knn.predict(X_test)\n",
    "    \n",
    "    return test_predict # Return your answer\n",
    "\n",
    "answer_seven()"
   ]
  },
  {
   "cell_type": "code",
   "execution_count": null,
   "metadata": {},
   "outputs": [],
   "source": [
    "def answer_eight():\n",
    "    X_train, X_test, y_train, y_test = answer_four()\n",
    "    knn = answer_five()\n",
    "    \n",
    "    # Your code here\n",
    "    mean_accurancy = knn.score(X_test, y_test)\n",
    "    \n",
    "    return mean_accurancy # Return your answer\n",
    "\n",
    "answer_eight()"
   ]
  }
 ],
 "metadata": {
  "kernelspec": {
   "display_name": "Python 3.10.8 64-bit",
   "language": "python",
   "name": "python3"
  },
  "language_info": {
   "name": "python",
   "version": "3.10.8"
  },
  "orig_nbformat": 4,
  "vscode": {
   "interpreter": {
    "hash": "8abd6f3fcc7087ee79a6c399603cdab0bff0d39e42e47e37d4ffc7dcf511a8f4"
   }
  }
 },
 "nbformat": 4,
 "nbformat_minor": 2
}
