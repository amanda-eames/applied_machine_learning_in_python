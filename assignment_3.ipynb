{
 "cells": [
  {
   "cell_type": "code",
   "execution_count": 1,
   "metadata": {},
   "outputs": [
    {
     "ename": "ModuleNotFoundError",
     "evalue": "No module named 'numpy'",
     "output_type": "error",
     "traceback": [
      "\u001b[1;31m---------------------------------------------------------------------------\u001b[0m",
      "\u001b[1;31mModuleNotFoundError\u001b[0m                       Traceback (most recent call last)",
      "Cell \u001b[1;32mIn [1], line 1\u001b[0m\n\u001b[1;32m----> 1\u001b[0m \u001b[39mimport\u001b[39;00m \u001b[39mnumpy\u001b[39;00m \u001b[39mas\u001b[39;00m \u001b[39mnp\u001b[39;00m\n\u001b[0;32m      2\u001b[0m \u001b[39mimport\u001b[39;00m \u001b[39mpandas\u001b[39;00m \u001b[39mas\u001b[39;00m \u001b[39mpd\u001b[39;00m\n",
      "\u001b[1;31mModuleNotFoundError\u001b[0m: No module named 'numpy'"
     ]
    }
   ],
   "source": [
    "import numpy as np\n",
    "import pandas as pd"
   ]
  },
  {
   "cell_type": "code",
   "execution_count": null,
   "metadata": {},
   "outputs": [],
   "source": [
    "def answer_one():\n",
    "    \n",
    "    # Your code here\n",
    "    df = pd.read_csv('fraud_data.csv')\n",
    "    df = df.groupby('Class').count()\n",
    "    df = df['Amount']\n",
    "    \n",
    "    return df[1]/(df[0] +df[1])# Return your answer"
   ]
  },
  {
   "cell_type": "code",
   "execution_count": null,
   "metadata": {},
   "outputs": [],
   "source": [
    "# Use X_train, X_test, y_train, y_test for all of the following questions\n",
    "from sklearn.model_selection import train_test_split\n",
    "\n",
    "df = pd.read_csv('fraud_data.csv')\n",
    "\n",
    "X = df.iloc[:,:-1]\n",
    "y = df.iloc[:,-1]\n",
    "\n",
    "X_train, X_test, y_train, y_test = train_test_split(X, y, random_state=0)"
   ]
  },
  {
   "cell_type": "code",
   "execution_count": null,
   "metadata": {},
   "outputs": [],
   "source": [
    "def answer_two():\n",
    "    from sklearn.dummy import DummyClassifier\n",
    "    from sklearn.metrics import recall_score, accuracy_score\n",
    "    \n",
    "    # Your code here\n",
    "    dummy_majority = DummyClassifier(strategy = 'most_frequent' ).fit(X_train, y_train)\n",
    "    y_predicted = dummy_majority.predict(X_test)\n",
    "    \n",
    "    return accuracy_score(y_test, y_predicted),recall_score(y_test, y_predicted) # Return your answer"
   ]
  },
  {
   "cell_type": "code",
   "execution_count": null,
   "metadata": {},
   "outputs": [],
   "source": [
    "def answer_three():\n",
    "    from sklearn.metrics import recall_score, precision_score, accuracy_score\n",
    "    from sklearn.svm import SVC\n",
    "\n",
    "    # Your code here\n",
    "    clf = SVC().fit(X_train, y_train)\n",
    "    y_predicted = clf.predict(X_test)   \n",
    "    \n",
    "    \n",
    "    return clf.score(X_test, y_test), recall_score(y_test, y_predicted), precision_score(y_test, y_predicted)\n",
    "\n",
    "answer_three()"
   ]
  },
  {
   "cell_type": "code",
   "execution_count": null,
   "metadata": {},
   "outputs": [],
   "source": [
    "def answer_four():\n",
    "    from sklearn.metrics import confusion_matrix\n",
    "    from sklearn.svm import SVC\n",
    "\n",
    "    # Your code here\n",
    "    clf = SVC(C = 1e9, gamma = 1e-07).fit(X_train, y_train)\n",
    "    y_score = clf.decision_function(X_test) > -220\n",
    "    matrix = confusion_matrix(y_test, y_score)\n",
    "    \n",
    "    return matrix# Return your answer"
   ]
  },
  {
   "cell_type": "code",
   "execution_count": null,
   "metadata": {},
   "outputs": [],
   "source": [
    "def answer_five():\n",
    "        \n",
    "    # Your code here\n",
    "    import matplotlib.pyplot as plt\n",
    "    #%matplotlib notebook\n",
    "    from sklearn.linear_model import LogisticRegression\n",
    "    from sklearn.metrics import precision_recall_curve, roc_curve\n",
    "    \n",
    "    lr = LogisticRegression().fit(X_train, y_train)  \n",
    "    lr_scores = lr.decision_function(X_test)\n",
    "    precision, recall, threshold = precision_recall_curve(y_test, lr_scores)\n",
    "    \n",
    "    #plt.plot(precision, recall)\n",
    "    #plt.xlabel('precision')\n",
    "    #plt.ylabel('recall')\n",
    "    \n",
    "    recall_value = recall[list(precision).index(0.75)]\n",
    "    fpr, tpr, _ = roc_curve(y_test, lr_scores)\n",
    "    \n",
    "    #plt.figure()    \n",
    "    #plt.plot(fpr, tpr)\n",
    "    #plt.xlabel('fpr')\n",
    "    #plt.ylabel('tpr')\n",
    "    \n",
    "    value_nearest = 0.16 - min([abs(float(x)-0.16) for x in fpr])\n",
    "    tpr_value = tpr[list(fpr).index(value_nearest)]\n",
    "    \n",
    "    return recall_value, tpr_value"
   ]
  },
  {
   "cell_type": "code",
   "execution_count": null,
   "metadata": {},
   "outputs": [],
   "source": [
    "def answer_six():    \n",
    "    from sklearn.model_selection import GridSearchCV\n",
    "    from sklearn.linear_model import LogisticRegression\n",
    "\n",
    "    # Your code here\n",
    "    grid_values = {'penalty': ['l1', 'l2'],'C':[0.01, 0.1, 1, 10, 100]}\n",
    "    clf = LogisticRegression()\n",
    "    grid_clf_acc = GridSearchCV(clf, grid_values, scoring = 'recall')\n",
    "    grid_clf_acc.fit(X_train, y_train)\n",
    "    y_scores = grid_clf_acc.cv_results_['mean_test_score']\n",
    "    y_scores_array = np.array(y_scores).reshape(5,2)\n",
    "    \n",
    "    return y_scores_array# Return your answer"
   ]
  },
  {
   "cell_type": "code",
   "execution_count": null,
   "metadata": {},
   "outputs": [],
   "source": []
  }
 ],
 "metadata": {
  "kernelspec": {
   "display_name": "Python 3.10.8 64-bit",
   "language": "python",
   "name": "python3"
  },
  "language_info": {
   "codemirror_mode": {
    "name": "ipython",
    "version": 3
   },
   "file_extension": ".py",
   "mimetype": "text/x-python",
   "name": "python",
   "nbconvert_exporter": "python",
   "pygments_lexer": "ipython3",
   "version": "3.10.8"
  },
  "orig_nbformat": 4,
  "vscode": {
   "interpreter": {
    "hash": "8abd6f3fcc7087ee79a6c399603cdab0bff0d39e42e47e37d4ffc7dcf511a8f4"
   }
  }
 },
 "nbformat": 4,
 "nbformat_minor": 2
}
